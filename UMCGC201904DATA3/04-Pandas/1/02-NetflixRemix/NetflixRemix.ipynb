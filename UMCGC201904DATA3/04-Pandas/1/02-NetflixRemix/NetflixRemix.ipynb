{
 "cells": [
  {
   "cell_type": "code",
   "execution_count": 57,
   "metadata": {},
   "outputs": [],
   "source": [
    "# Modules\n",
    "import os\n",
    "import csv"
   ]
  },
  {
   "cell_type": "code",
   "execution_count": 58,
   "metadata": {},
   "outputs": [],
   "source": [
    "# Prompt user for video lookup\n",
    "video = input(\"What show or movie are you looking for? \").lower()"
   ]
  },
  {
   "cell_type": "code",
   "execution_count": 59,
   "metadata": {},
   "outputs": [
    {
     "name": "stdout",
     "output_type": "stream",
     "text": [
      "Resources\\netflix_ratings.csv\n"
     ]
    }
   ],
   "source": [
    "# Set path for file\n",
    "csvpath = os.path.join(\"Resources\", \"netflix_ratings.csv\")\n",
    "print(csvpath)\n",
    "\n",
    "# Set variable to check if we found the video\n",
    "found = False"
   ]
  },
  {
   "cell_type": "code",
   "execution_count": 60,
   "metadata": {},
   "outputs": [
    {
     "name": "stdout",
     "output_type": "stream",
     "text": [
      "White Chicks is rated PG-13 with a rating of 82\n"
     ]
    }
   ],
   "source": [
    "# Open the CSV\n",
    "with open(csvpath, newline=\"\") as csvfile:\n",
    "    csvreader = csv.reader(csvfile, delimiter=\",\")\n",
    "\n",
    "    # Loop through looking for the video\n",
    "    for row in csvreader:\n",
    "        if row[0].lower() == video:\n",
    "            print(row[0] + \" is rated \" + row[1] +\n",
    "                  \" with a rating of \" + row[5])\n",
    "\n",
    "            # Set variable to confirm we have found the video\n",
    "            found = True\n",
    "\n",
    "    # If the video is never found, alert the user\n",
    "    if found == False:\n",
    "        print(\"We don't seem to have what you are looking for!\")"
   ]
  }
 ],
 "metadata": {
  "kernelspec": {
   "display_name": "base",
   "language": "python",
   "name": "python3"
  },
  "language_info": {
   "codemirror_mode": {
    "name": "ipython",
    "version": 3
   },
   "file_extension": ".py",
   "mimetype": "text/x-python",
   "name": "python",
   "nbconvert_exporter": "python",
   "pygments_lexer": "ipython3",
   "version": "3.9.13"
  },
  "orig_nbformat": 4,
  "vscode": {
   "interpreter": {
    "hash": "75d7cbf18e5cb3fdb05343164699d951283e027a13faaa193f739ae887708926"
   }
  }
 },
 "nbformat": 4,
 "nbformat_minor": 2
}
