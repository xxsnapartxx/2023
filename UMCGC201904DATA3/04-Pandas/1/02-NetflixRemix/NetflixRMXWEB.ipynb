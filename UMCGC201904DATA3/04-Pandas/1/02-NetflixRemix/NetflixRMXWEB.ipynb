{
 "cells": [
  {
   "cell_type": "code",
   "execution_count": null,
   "id": "097cd06a",
   "metadata": {},
   "outputs": [],
   "source": [
    "#Modules\n",
    "import os\n",
    "import csv\n"
   ]
  },
  {
   "cell_type": "code",
   "execution_count": null,
   "id": "77e913ce",
   "metadata": {},
   "outputs": [],
   "source": [
    "#prompt user for video look up\n",
    "video = input (\"what show or movie are you looking for?\")"
   ]
  },
  {
   "cell_type": "code",
   "execution_count": null,
   "id": "0672545e",
   "metadata": {},
   "outputs": [],
   "source": [
    "#set path for file\n",
    "csvpath =os.path.join(\"Resources\", \"netflix_rating.csv\")\n",
    "\n",
    "#set variable to check if we found the video\n",
    " found = False\n"
   ]
  },
  {
   "cell_type": "code",
   "execution_count": null,
   "id": "005cf798",
   "metadata": {},
   "outputs": [],
   "source": [
    "Resources/netflix_ratings.csv"
   ]
  },
  {
   "cell_type": "code",
   "execution_count": null,
   "id": "ea426d48",
   "metadata": {},
   "outputs": [],
   "source": [
    "# Open the CSV\n",
    "with open(csvpath, newline=\"\") as csvfile\n",
    "    csvreader = csv.reader(csvfile, delimeter=\",\")\n",
    "    \n",
    "    #loop through looking for the video\n",
    "    for row in csvreader:\n",
    "        if row[0] + \" is rated \" + row [1] +\n",
    "            \"with a rating \" + row[5])\n",
    "            \n",
    "        # Set Variable to confrim we have found the video\n",
    "        found = True\n",
    "        \n",
    "    # If the video is never found, alert the user\n",
    "    if found == False:\n",
    "        print(\"We dont seem to have what you are looking for!\")\n",
    "        "
   ]
  },
  {
   "cell_type": "code",
   "execution_count": null,
   "id": "eb8a2afd",
   "metadata": {},
   "outputs": [],
   "source": []
  },
  {
   "cell_type": "code",
   "execution_count": null,
   "id": "3971cf8c",
   "metadata": {},
   "outputs": [],
   "source": []
  }
 ],
 "metadata": {
  "kernelspec": {
   "display_name": "Python 3 (ipykernel)",
   "language": "python",
   "name": "python3"
  },
  "language_info": {
   "codemirror_mode": {
    "name": "ipython",
    "version": 3
   },
   "file_extension": ".py",
   "mimetype": "text/x-python",
   "name": "python",
   "nbconvert_exporter": "python",
   "pygments_lexer": "ipython3",
   "version": "3.9.13"
  }
 },
 "nbformat": 4,
 "nbformat_minor": 5
}
